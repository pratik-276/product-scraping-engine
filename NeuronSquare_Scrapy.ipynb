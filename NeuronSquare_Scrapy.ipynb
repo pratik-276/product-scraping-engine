{
  "nbformat": 4,
  "nbformat_minor": 0,
  "metadata": {
    "colab": {
      "name": "NeuronSquare Scrapy",
      "provenance": []
    },
    "kernelspec": {
      "name": "python3",
      "display_name": "Python 3"
    },
    "language_info": {
      "name": "python"
    }
  },
  "cells": [
    {
      "cell_type": "code",
      "execution_count": 1,
      "metadata": {
        "colab": {
          "base_uri": "https://localhost:8080/"
        },
        "id": "SH53Q1oOpluE",
        "outputId": "4eab4a4d-c9a4-4ddc-ec56-1a28e79372be"
      },
      "outputs": [
        {
          "output_type": "stream",
          "name": "stdout",
          "text": [
            "\u001b[?25l\r\u001b[K     |█▎                              | 10 kB 21.8 MB/s eta 0:00:01\r\u001b[K     |██▌                             | 20 kB 26.3 MB/s eta 0:00:01\r\u001b[K     |███▊                            | 30 kB 18.5 MB/s eta 0:00:01\r\u001b[K     |█████                           | 40 kB 12.5 MB/s eta 0:00:01\r\u001b[K     |██████▏                         | 51 kB 5.9 MB/s eta 0:00:01\r\u001b[K     |███████▍                        | 61 kB 6.9 MB/s eta 0:00:01\r\u001b[K     |████████▊                       | 71 kB 7.6 MB/s eta 0:00:01\r\u001b[K     |██████████                      | 81 kB 8.4 MB/s eta 0:00:01\r\u001b[K     |███████████▏                    | 92 kB 9.4 MB/s eta 0:00:01\r\u001b[K     |████████████▍                   | 102 kB 8.1 MB/s eta 0:00:01\r\u001b[K     |█████████████▋                  | 112 kB 8.1 MB/s eta 0:00:01\r\u001b[K     |██████████████▉                 | 122 kB 8.1 MB/s eta 0:00:01\r\u001b[K     |████████████████▏               | 133 kB 8.1 MB/s eta 0:00:01\r\u001b[K     |█████████████████▍              | 143 kB 8.1 MB/s eta 0:00:01\r\u001b[K     |██████████████████▋             | 153 kB 8.1 MB/s eta 0:00:01\r\u001b[K     |███████████████████▉            | 163 kB 8.1 MB/s eta 0:00:01\r\u001b[K     |█████████████████████           | 174 kB 8.1 MB/s eta 0:00:01\r\u001b[K     |██████████████████████▎         | 184 kB 8.1 MB/s eta 0:00:01\r\u001b[K     |███████████████████████▌        | 194 kB 8.1 MB/s eta 0:00:01\r\u001b[K     |████████████████████████▉       | 204 kB 8.1 MB/s eta 0:00:01\r\u001b[K     |██████████████████████████      | 215 kB 8.1 MB/s eta 0:00:01\r\u001b[K     |███████████████████████████▎    | 225 kB 8.1 MB/s eta 0:00:01\r\u001b[K     |████████████████████████████▌   | 235 kB 8.1 MB/s eta 0:00:01\r\u001b[K     |█████████████████████████████▊  | 245 kB 8.1 MB/s eta 0:00:01\r\u001b[K     |███████████████████████████████ | 256 kB 8.1 MB/s eta 0:00:01\r\u001b[K     |████████████████████████████████| 264 kB 8.1 MB/s \n",
            "\u001b[K     |████████████████████████████████| 87 kB 5.1 MB/s \n",
            "\u001b[K     |████████████████████████████████| 55 kB 3.3 MB/s \n",
            "\u001b[K     |████████████████████████████████| 251 kB 54.5 MB/s \n",
            "\u001b[K     |████████████████████████████████| 3.1 MB 42.1 MB/s \n",
            "\u001b[K     |████████████████████████████████| 47 kB 3.3 MB/s \n",
            "\u001b[K     |████████████████████████████████| 3.6 MB 38.8 MB/s \n",
            "\u001b[K     |████████████████████████████████| 74 kB 2.9 MB/s \n",
            "\u001b[?25h  Building wheel for PyDispatcher (setup.py) ... \u001b[?25l\u001b[?25hdone\n"
          ]
        }
      ],
      "source": [
        "!pip install scrapy --quiet"
      ]
    },
    {
      "cell_type": "code",
      "source": [
        "!scrapy runspider spider.py"
      ],
      "metadata": {
        "colab": {
          "base_uri": "https://localhost:8080/"
        },
        "id": "sqxBI_A1pxzW",
        "outputId": "46216b2c-a3ca-4251-958e-518efc6275eb"
      },
      "execution_count": 26,
      "outputs": [
        {
          "output_type": "stream",
          "name": "stdout",
          "text": [
            "2022-03-30 10:15:00 [scrapy.utils.log] INFO: Scrapy 2.6.1 started (bot: scrapybot)\n",
            "2022-03-30 10:15:00 [scrapy.utils.log] INFO: Versions: lxml 4.2.6.0, libxml2 2.9.8, cssselect 1.1.0, parsel 1.6.0, w3lib 1.22.0, Twisted 22.2.0, Python 3.7.13 (default, Mar 16 2022, 17:37:17) - [GCC 7.5.0], pyOpenSSL 22.0.0 (OpenSSL 1.1.1n  15 Mar 2022), cryptography 36.0.2, Platform Linux-5.4.144+-x86_64-with-Ubuntu-18.04-bionic\n",
            "2022-03-30 10:15:00 [scrapy.crawler] INFO: Overridden settings:\n",
            "{'SPIDER_LOADER_WARN_ONLY': True}\n",
            "2022-03-30 10:15:00 [scrapy.utils.log] DEBUG: Using reactor: twisted.internet.epollreactor.EPollReactor\n",
            "2022-03-30 10:15:00 [scrapy.extensions.telnet] INFO: Telnet Password: b782fe506f7a5f77\n",
            "2022-03-30 10:15:00 [scrapy.middleware] INFO: Enabled extensions:\n",
            "['scrapy.extensions.corestats.CoreStats',\n",
            " 'scrapy.extensions.telnet.TelnetConsole',\n",
            " 'scrapy.extensions.memusage.MemoryUsage',\n",
            " 'scrapy.extensions.logstats.LogStats']\n",
            "2022-03-30 10:15:00 [scrapy.middleware] INFO: Enabled downloader middlewares:\n",
            "['scrapy.downloadermiddlewares.httpauth.HttpAuthMiddleware',\n",
            " 'scrapy.downloadermiddlewares.downloadtimeout.DownloadTimeoutMiddleware',\n",
            " 'scrapy.downloadermiddlewares.defaultheaders.DefaultHeadersMiddleware',\n",
            " 'scrapy.downloadermiddlewares.useragent.UserAgentMiddleware',\n",
            " 'scrapy.downloadermiddlewares.retry.RetryMiddleware',\n",
            " 'scrapy.downloadermiddlewares.redirect.MetaRefreshMiddleware',\n",
            " 'scrapy.downloadermiddlewares.httpcompression.HttpCompressionMiddleware',\n",
            " 'scrapy.downloadermiddlewares.redirect.RedirectMiddleware',\n",
            " 'scrapy.downloadermiddlewares.cookies.CookiesMiddleware',\n",
            " 'scrapy.downloadermiddlewares.httpproxy.HttpProxyMiddleware',\n",
            " 'scrapy.downloadermiddlewares.stats.DownloaderStats']\n",
            "2022-03-30 10:15:00 [scrapy.middleware] INFO: Enabled spider middlewares:\n",
            "['scrapy.spidermiddlewares.httperror.HttpErrorMiddleware',\n",
            " 'scrapy.spidermiddlewares.offsite.OffsiteMiddleware',\n",
            " 'scrapy.spidermiddlewares.referer.RefererMiddleware',\n",
            " 'scrapy.spidermiddlewares.urllength.UrlLengthMiddleware',\n",
            " 'scrapy.spidermiddlewares.depth.DepthMiddleware']\n",
            "2022-03-30 10:15:00 [scrapy.middleware] INFO: Enabled item pipelines:\n",
            "[]\n",
            "2022-03-30 10:15:00 [scrapy.core.engine] INFO: Spider opened\n",
            "2022-03-30 10:15:01 [scrapy.extensions.logstats] INFO: Crawled 0 pages (at 0 pages/min), scraped 0 items (at 0 items/min)\n",
            "2022-03-30 10:15:01 [scrapy.extensions.telnet] INFO: Telnet console listening on 127.0.0.1:6023\n",
            "2022-03-30 10:15:01 [filelock] DEBUG: Attempting to acquire lock 139880510323664 on /root/.cache/python-tldextract/3.7.13.final__usr__7d8fdf__tldextract-3.2.0/publicsuffix.org-tlds/de84b5ca2167d4c83e38fb162f2e8738.tldextract.json.lock\n",
            "2022-03-30 10:15:01 [filelock] DEBUG: Lock 139880510323664 acquired on /root/.cache/python-tldextract/3.7.13.final__usr__7d8fdf__tldextract-3.2.0/publicsuffix.org-tlds/de84b5ca2167d4c83e38fb162f2e8738.tldextract.json.lock\n",
            "2022-03-30 10:15:01 [filelock] DEBUG: Attempting to acquire lock 139880510476752 on /root/.cache/python-tldextract/3.7.13.final__usr__7d8fdf__tldextract-3.2.0/urls/62bf135d1c2f3d4db4228b9ecaf507a2.tldextract.json.lock\n",
            "2022-03-30 10:15:01 [filelock] DEBUG: Lock 139880510476752 acquired on /root/.cache/python-tldextract/3.7.13.final__usr__7d8fdf__tldextract-3.2.0/urls/62bf135d1c2f3d4db4228b9ecaf507a2.tldextract.json.lock\n",
            "2022-03-30 10:15:01 [filelock] DEBUG: Attempting to release lock 139880510476752 on /root/.cache/python-tldextract/3.7.13.final__usr__7d8fdf__tldextract-3.2.0/urls/62bf135d1c2f3d4db4228b9ecaf507a2.tldextract.json.lock\n",
            "2022-03-30 10:15:01 [filelock] DEBUG: Lock 139880510476752 released on /root/.cache/python-tldextract/3.7.13.final__usr__7d8fdf__tldextract-3.2.0/urls/62bf135d1c2f3d4db4228b9ecaf507a2.tldextract.json.lock\n",
            "2022-03-30 10:15:01 [filelock] DEBUG: Attempting to release lock 139880510323664 on /root/.cache/python-tldextract/3.7.13.final__usr__7d8fdf__tldextract-3.2.0/publicsuffix.org-tlds/de84b5ca2167d4c83e38fb162f2e8738.tldextract.json.lock\n",
            "2022-03-30 10:15:01 [filelock] DEBUG: Lock 139880510323664 released on /root/.cache/python-tldextract/3.7.13.final__usr__7d8fdf__tldextract-3.2.0/publicsuffix.org-tlds/de84b5ca2167d4c83e38fb162f2e8738.tldextract.json.lock\n",
            "2022-03-30 10:15:01 [scrapy.core.engine] DEBUG: Crawled (200) <GET https://www.midsouthshooterssupply.com/dept/reloading/primers> (referer: None)\n",
            "[<Selector xpath=\"descendant-or-self::*[@class and contains(concat(' ', normalize-space(@class), ' '), ' catalog-item-name ')]\" data='<a class=\"catalog-item-name\" href=\"/i...'>, <Selector xpath=\"descendant-or-self::*[@class and contains(concat(' ', normalize-space(@class), ' '), ' catalog-item-name ')]\" data='<a class=\"catalog-item-name\" href=\"/i...'>, <Selector xpath=\"descendant-or-self::*[@class and contains(concat(' ', normalize-space(@class), ' '), ' catalog-item-name ')]\" data='<a class=\"catalog-item-name\" href=\"/i...'>, <Selector xpath=\"descendant-or-self::*[@class and contains(concat(' ', normalize-space(@class), ' '), ' catalog-item-name ')]\" data='<a class=\"catalog-item-name\" href=\"/i...'>, <Selector xpath=\"descendant-or-self::*[@class and contains(concat(' ', normalize-space(@class), ' '), ' catalog-item-name ')]\" data='<a class=\"catalog-item-name\" href=\"/i...'>, <Selector xpath=\"descendant-or-self::*[@class and contains(concat(' ', normalize-space(@class), ' '), ' catalog-item-name ')]\" data='<a class=\"catalog-item-name\" href=\"/i...'>, <Selector xpath=\"descendant-or-self::*[@class and contains(concat(' ', normalize-space(@class), ' '), ' catalog-item-name ')]\" data='<a class=\"catalog-item-name\" href=\"/i...'>, <Selector xpath=\"descendant-or-self::*[@class and contains(concat(' ', normalize-space(@class), ' '), ' catalog-item-name ')]\" data='<a class=\"catalog-item-name\" href=\"/i...'>, <Selector xpath=\"descendant-or-self::*[@class and contains(concat(' ', normalize-space(@class), ' '), ' catalog-item-name ')]\" data='<a class=\"catalog-item-name\" href=\"/i...'>, <Selector xpath=\"descendant-or-self::*[@class and contains(concat(' ', normalize-space(@class), ' '), ' catalog-item-name ')]\" data='<a class=\"catalog-item-name\" href=\"/i...'>, <Selector xpath=\"descendant-or-self::*[@class and contains(concat(' ', normalize-space(@class), ' '), ' catalog-item-name ')]\" data='<a class=\"catalog-item-name\" href=\"/i...'>, <Selector xpath=\"descendant-or-self::*[@class and contains(concat(' ', normalize-space(@class), ' '), ' catalog-item-name ')]\" data='<a class=\"catalog-item-name\" href=\"/i...'>, <Selector xpath=\"descendant-or-self::*[@class and contains(concat(' ', normalize-space(@class), ' '), ' catalog-item-name ')]\" data='<a class=\"catalog-item-name\" href=\"/i...'>, <Selector xpath=\"descendant-or-self::*[@class and contains(concat(' ', normalize-space(@class), ' '), ' catalog-item-name ')]\" data='<a class=\"catalog-item-name\" href=\"/i...'>, <Selector xpath=\"descendant-or-self::*[@class and contains(concat(' ', normalize-space(@class), ' '), ' catalog-item-name ')]\" data='<a class=\"catalog-item-name\" href=\"/i...'>, <Selector xpath=\"descendant-or-self::*[@class and contains(concat(' ', normalize-space(@class), ' '), ' catalog-item-name ')]\" data='<a class=\"catalog-item-name\" href=\"/i...'>, <Selector xpath=\"descendant-or-self::*[@class and contains(concat(' ', normalize-space(@class), ' '), ' catalog-item-name ')]\" data='<a class=\"catalog-item-name\" href=\"/i...'>, <Selector xpath=\"descendant-or-self::*[@class and contains(concat(' ', normalize-space(@class), ' '), ' catalog-item-name ')]\" data='<a class=\"catalog-item-name\" href=\"/i...'>, <Selector xpath=\"descendant-or-self::*[@class and contains(concat(' ', normalize-space(@class), ' '), ' catalog-item-name ')]\" data='<a class=\"catalog-item-name\" href=\"/i...'>, <Selector xpath=\"descendant-or-self::*[@class and contains(concat(' ', normalize-space(@class), ' '), ' catalog-item-name ')]\" data='<a class=\"catalog-item-name\" href=\"/i...'>, <Selector xpath=\"descendant-or-self::*[@class and contains(concat(' ', normalize-space(@class), ' '), ' catalog-item-name ')]\" data='<a class=\"catalog-item-name\" href=\"/i...'>, <Selector xpath=\"descendant-or-self::*[@class and contains(concat(' ', normalize-space(@class), ' '), ' catalog-item-name ')]\" data='<a class=\"catalog-item-name\" href=\"/i...'>, <Selector xpath=\"descendant-or-self::*[@class and contains(concat(' ', normalize-space(@class), ' '), ' catalog-item-name ')]\" data='<a class=\"catalog-item-name\" href=\"/i...'>, <Selector xpath=\"descendant-or-self::*[@class and contains(concat(' ', normalize-space(@class), ' '), ' catalog-item-name ')]\" data='<a class=\"catalog-item-name\" href=\"/i...'>, <Selector xpath=\"descendant-or-self::*[@class and contains(concat(' ', normalize-space(@class), ' '), ' catalog-item-name ')]\" data='<a class=\"catalog-item-name\" href=\"/i...'>, <Selector xpath=\"descendant-or-self::*[@class and contains(concat(' ', normalize-space(@class), ' '), ' catalog-item-name ')]\" data='<a class=\"catalog-item-name\" href=\"/i...'>, <Selector xpath=\"descendant-or-self::*[@class and contains(concat(' ', normalize-space(@class), ' '), ' catalog-item-name ')]\" data='<a class=\"catalog-item-name\" href=\"/i...'>, <Selector xpath=\"descendant-or-self::*[@class and contains(concat(' ', normalize-space(@class), ' '), ' catalog-item-name ')]\" data='<a class=\"catalog-item-name\" href=\"/i...'>, <Selector xpath=\"descendant-or-self::*[@class and contains(concat(' ', normalize-space(@class), ' '), ' catalog-item-name ')]\" data='<a class=\"catalog-item-name\" href=\"/i...'>, <Selector xpath=\"descendant-or-self::*[@class and contains(concat(' ', normalize-space(@class), ' '), ' catalog-item-name ')]\" data='<a class=\"catalog-item-name\" href=\"/i...'>]\n",
            "\n",
            "\n",
            "\n",
            "[{'price': 77.0, 'title': '123-WMGLP', 'stock': False, 'manufacturer': 'Winchester', 'review': 'Winchester USA Ready Match Large Pistol Primers 1000 Count'}, {'price': 77.0, 'title': '123-WMGLR', 'stock': False, 'manufacturer': 'Winchester', 'review': 'Winchester USA Ready Match Large Rifle Primers 1000 Count'}, {'price': 77.0, 'title': '123-WMGSP', 'stock': False, 'manufacturer': 'Winchester', 'review': 'Winchester USA Ready Match Small Pistol Primers 1000 Count'}, {'price': 77.0, 'title': '123-WMGSR', 'stock': False, 'manufacturer': 'Winchester', 'review': 'Winchester USA Ready Match Small Rifle Primers 1000 Count'}, {'price': 66.99, 'title': '123-WSP', 'stock': False, 'manufacturer': 'Winchester', 'review': 'Winchester Small Pistol Primers 1000 Count'}, {'price': 69.13, 'title': '020-0014', 'stock': False, 'manufacturer': 'CCI ', 'review': '#500 Small Pistol Primer (1000 Count)'}, {'price': 66.99, 'title': '123-WLP', 'stock': False, 'manufacturer': 'Winchester', 'review': 'Winchester Large Pistol Primers 1000 Count'}, {'price': 69.13, 'title': '020-0012', 'stock': False, 'manufacturer': 'CCI ', 'review': '#300 Large Pistol Primer (1000 Count)'}, {'price': 66.99, 'title': '123-WSR', 'stock': False, 'manufacturer': 'Winchester', 'review': 'Winchester Small Rifle Primers 1000 Count'}, {'price': 69.13, 'title': '020-0013', 'stock': False, 'manufacturer': 'CCI ', 'review': '#400 Small Rifle Primer (1000 Count)'}, {'price': 66.99, 'title': '123-WLR', 'stock': False, 'manufacturer': 'Winchester', 'review': 'Winchester Large Rifle Primers 1000 Count'}, {'price': 69.13, 'title': '020-0011', 'stock': False, 'manufacturer': 'CCI ', 'review': '#200 Large Rifle Primer (1000 Count)'}, {'price': 66.99, 'title': '123-WSPM', 'stock': False, 'manufacturer': 'Winchester', 'review': 'Winchester Small Pistol Magnum Primers 1000 Count'}, {'price': 73.95, 'title': '123-WLRM', 'stock': False, 'manufacturer': 'Winchester', 'review': 'Winchester Magnum Large Rifle Primers 1000 Count'}, {'price': 76.26, 'title': '020-0017', 'stock': False, 'manufacturer': 'CCI ', 'review': '#450 Magnum Small Rifle Primer (1000 Count)'}, {'price': 76.26, 'title': '020-0015', 'stock': False, 'manufacturer': 'CCI ', 'review': '#250 Magnum Large Rifle Primer (1000 Count)'}, {'price': 69.13, 'title': '020-0018', 'stock': False, 'manufacturer': 'CCI ', 'review': '#550 Magnum Small Pistol Primer (1000 Count)'}, {'price': 76.26, 'title': '020-0016', 'stock': False, 'manufacturer': 'CCI ', 'review': '#350 Magnum Large Pistol Primer (1000 Count)'}, {'price': 81.69, 'title': '129-GM210M', 'stock': False, 'manufacturer': 'Federal ', 'review': 'Gold Medal Large Rifle Match Primer #GM210M (1000 Count)'}, {'price': 90.68, 'title': '020-0001', 'stock': False, 'manufacturer': 'CCI ', 'review': '#41 5.56 & 30 Carbine NATO Spec Primer 1000 Count'}, {'price': 91.14, 'title': '020-0002', 'stock': False, 'manufacturer': 'CCI ', 'review': '#34 7.62mm & 30-06 NATO Spec Primer 1000 Count'}, {'price': 121.52, 'title': '020-0010', 'stock': False, 'manufacturer': 'CCI ', 'review': 'BR2 Large Rifle Bench Rest Primers (1000 Count)'}, {'price': 121.52, 'title': '020-0019', 'stock': False, 'manufacturer': 'CCI ', 'review': 'BR4 Small Rifle Bench Rest Primer (1000 Count)'}, {'price': 442.94, 'title': '020-0320', 'stock': False, 'manufacturer': 'CCI ', 'review': '#35 50 Caliber BMG Primer (500 Count)'}, {'price': 71.15, 'title': '050-22600', 'stock': False, 'manufacturer': 'Remington', 'review': '1 1/2 Small Pistol Primer (1000 Count)'}, {'price': 71.15, 'title': '050-22604', 'stock': False, 'manufacturer': 'Remington', 'review': '2 1/2 Large Pistol Primer (1000 Count)'}, {'price': 71.15, 'title': '050-22606', 'stock': False, 'manufacturer': 'Remington', 'review': '6 1/2 Small Rifle Primer (1000 Count)'}, {'price': 71.15, 'title': '050-22608', 'stock': False, 'manufacturer': 'Remington', 'review': '9 1/2 Large Rifle Primer (1000 Count)'}, {'price': 78.43, 'title': '050-22622', 'stock': False, 'manufacturer': 'Remington', 'review': '9 1/2 Magnum Large Rifle Primer (1000 Count)'}, {'price': 71.15, 'title': '050-22626', 'stock': False, 'manufacturer': 'Remington', 'review': '5 1/2 Small Mag Pistol Primer (1000 Count)'}]\n",
            "{'href': '/dept/reloading/primers?currentpage=2'}\n",
            "2022-03-30 10:15:02 [scrapy.core.engine] DEBUG: Crawled (200) <GET https://www.midsouthshooterssupply.com/dept/reloading/primers?currentpage=2> (referer: https://www.midsouthshooterssupply.com/dept/reloading/primers)\n",
            "[<Selector xpath=\"descendant-or-self::*[@class and contains(concat(' ', normalize-space(@class), ' '), ' catalog-item-name ')]\" data='<a class=\"catalog-item-name\" href=\"/i...'>, <Selector xpath=\"descendant-or-self::*[@class and contains(concat(' ', normalize-space(@class), ' '), ' catalog-item-name ')]\" data='<a class=\"catalog-item-name\" href=\"/i...'>, <Selector xpath=\"descendant-or-self::*[@class and contains(concat(' ', normalize-space(@class), ' '), ' catalog-item-name ')]\" data='<a class=\"catalog-item-name\" href=\"/i...'>, <Selector xpath=\"descendant-or-self::*[@class and contains(concat(' ', normalize-space(@class), ' '), ' catalog-item-name ')]\" data='<a class=\"catalog-item-name\" href=\"/i...'>, <Selector xpath=\"descendant-or-self::*[@class and contains(concat(' ', normalize-space(@class), ' '), ' catalog-item-name ')]\" data='<a class=\"catalog-item-name\" href=\"/i...'>, <Selector xpath=\"descendant-or-self::*[@class and contains(concat(' ', normalize-space(@class), ' '), ' catalog-item-name ')]\" data='<a class=\"catalog-item-name\" href=\"/i...'>, <Selector xpath=\"descendant-or-self::*[@class and contains(concat(' ', normalize-space(@class), ' '), ' catalog-item-name ')]\" data='<a class=\"catalog-item-name\" href=\"/i...'>, <Selector xpath=\"descendant-or-self::*[@class and contains(concat(' ', normalize-space(@class), ' '), ' catalog-item-name ')]\" data='<a class=\"catalog-item-name\" href=\"/i...'>, <Selector xpath=\"descendant-or-self::*[@class and contains(concat(' ', normalize-space(@class), ' '), ' catalog-item-name ')]\" data='<a class=\"catalog-item-name\" href=\"/i...'>, <Selector xpath=\"descendant-or-self::*[@class and contains(concat(' ', normalize-space(@class), ' '), ' catalog-item-name ')]\" data='<a class=\"catalog-item-name\" href=\"/i...'>, <Selector xpath=\"descendant-or-self::*[@class and contains(concat(' ', normalize-space(@class), ' '), ' catalog-item-name ')]\" data='<a class=\"catalog-item-name\" href=\"/i...'>, <Selector xpath=\"descendant-or-self::*[@class and contains(concat(' ', normalize-space(@class), ' '), ' catalog-item-name ')]\" data='<a class=\"catalog-item-name\" href=\"/i...'>, <Selector xpath=\"descendant-or-self::*[@class and contains(concat(' ', normalize-space(@class), ' '), ' catalog-item-name ')]\" data='<a class=\"catalog-item-name\" href=\"/i...'>, <Selector xpath=\"descendant-or-self::*[@class and contains(concat(' ', normalize-space(@class), ' '), ' catalog-item-name ')]\" data='<a class=\"catalog-item-name\" href=\"/i...'>, <Selector xpath=\"descendant-or-self::*[@class and contains(concat(' ', normalize-space(@class), ' '), ' catalog-item-name ')]\" data='<a class=\"catalog-item-name\" href=\"/i...'>, <Selector xpath=\"descendant-or-self::*[@class and contains(concat(' ', normalize-space(@class), ' '), ' catalog-item-name ')]\" data='<a class=\"catalog-item-name\" href=\"/i...'>, <Selector xpath=\"descendant-or-self::*[@class and contains(concat(' ', normalize-space(@class), ' '), ' catalog-item-name ')]\" data='<a class=\"catalog-item-name\" href=\"/i...'>, <Selector xpath=\"descendant-or-self::*[@class and contains(concat(' ', normalize-space(@class), ' '), ' catalog-item-name ')]\" data='<a class=\"catalog-item-name\" href=\"/i...'>]\n",
            "\n",
            "\n",
            "\n",
            "[{'price': 71.15, 'title': '050-22628', 'stock': False, 'manufacturer': 'Remington', 'review': '7 1/2 Bench Rest Small Rifle Primer (1000 Count)'}, {'price': 86.65, 'title': '050-22661', 'stock': False, 'manufacturer': 'Remington', 'review': '209 Premier STS Shotshell Primer (1000 Count)'}, {'price': 60.47, 'title': '123-W209', 'stock': False, 'manufacturer': 'Winchester', 'review': 'Winchester Shot Shell Primers 1000 Count'}, {'price': 71.15, 'title': '129-100', 'stock': False, 'manufacturer': 'Federal ', 'review': 'Federal Small Pistol Primer #100 (1000 Count)'}, {'price': 71.15, 'title': '129-150', 'stock': False, 'manufacturer': 'Federal ', 'review': 'Large Pistol Primer #150 (1000 Count)'}, {'price': 78.43, 'title': '129-155', 'stock': False, 'manufacturer': 'Federal ', 'review': 'Magnum Large Pistol Primer #155 (1000 Count)'}, {'price': 71.15, 'title': '129-200', 'stock': False, 'manufacturer': 'Federal ', 'review': 'Magnum Small Pistol Primer #200 (1000 Count)'}, {'price': 71.15, 'title': '129-205', 'stock': False, 'manufacturer': 'Federal ', 'review': 'Small Rifle Primer #205 (1000 Count)'}, {'price': 57.96, 'title': '129-209A', 'stock': False, 'manufacturer': 'Federal ', 'review': '209A Shotshell Primer 1000 Count'}, {'price': 71.15, 'title': '129-210', 'stock': False, 'manufacturer': 'Federal ', 'review': 'Large Rifle Primer #210 (1000 Count)'}, {'price': 78.43, 'title': '129-215', 'stock': False, 'manufacturer': 'Federal ', 'review': 'Magnum Large Rifle Primer #215 (1000 Count)'}, {'price': 81.69, 'title': '129-GM100M', 'stock': False, 'manufacturer': 'Federal ', 'review': 'Gold Medal Small Pistol Match Primer #GM100M (1000 Count)'}, {'price': 81.69, 'title': '129-GM150M', 'stock': False, 'manufacturer': 'Federal ', 'review': 'Gold Medal Large Pistol Match Primer #GM150M (1000 Count)'}, {'price': 89.28, 'title': '129-GM155M', 'stock': False, 'manufacturer': 'Federal ', 'review': 'Gold Medal Magnum Large Pistol Match Primer #GM155M (1000 Count)'}, {'price': 81.69, 'title': '129-GM200M', 'stock': False, 'manufacturer': 'Federal ', 'review': 'Gold Medal Magnum Small Pistol Match Primer #GM200M (1000 Count)'}, {'price': 81.69, 'title': '129-GM205M', 'stock': False, 'manufacturer': 'Federal ', 'review': 'Gold Medal Small Rifle Match Primer #GM205M (1000 Count)'}, {'price': 81.69, 'title': '129-GM205MAR', 'stock': False, 'manufacturer': 'Federal ', 'review': 'Gold Medal AR Match Small Rifle Primer #GM205MAR (1000 Count)'}, {'price': 89.28, 'title': '129-GM215M', 'stock': False, 'manufacturer': 'Federal ', 'review': 'Gold Medal Magnum Large Rifle Match Primer #GM215M (1000 Count)'}]\n",
            "{'class': 'aspNetDisabled'}\n",
            "2022-03-30 10:15:02 [scrapy.core.engine] INFO: Closing spider (finished)\n",
            "2022-03-30 10:15:02 [scrapy.statscollectors] INFO: Dumping Scrapy stats:\n",
            "{'downloader/request_bytes': 642,\n",
            " 'downloader/request_count': 2,\n",
            " 'downloader/request_method_count/GET': 2,\n",
            " 'downloader/response_bytes': 462849,\n",
            " 'downloader/response_count': 2,\n",
            " 'downloader/response_status_count/200': 2,\n",
            " 'elapsed_time_seconds': 1.31507,\n",
            " 'finish_reason': 'finished',\n",
            " 'finish_time': datetime.datetime(2022, 3, 30, 10, 15, 2, 339025),\n",
            " 'log_count/DEBUG': 11,\n",
            " 'log_count/INFO': 10,\n",
            " 'memusage/max': 73797632,\n",
            " 'memusage/startup': 73797632,\n",
            " 'request_depth_max': 1,\n",
            " 'response_received_count': 2,\n",
            " 'scheduler/dequeued': 2,\n",
            " 'scheduler/dequeued/memory': 2,\n",
            " 'scheduler/enqueued': 2,\n",
            " 'scheduler/enqueued/memory': 2,\n",
            " 'start_time': datetime.datetime(2022, 3, 30, 10, 15, 1, 23955)}\n",
            "2022-03-30 10:15:02 [scrapy.core.engine] INFO: Spider closed (finished)\n"
          ]
        }
      ]
    },
    {
      "cell_type": "code",
      "source": [
        ""
      ],
      "metadata": {
        "id": "pkj_hECGqKlW"
      },
      "execution_count": 18,
      "outputs": []
    }
  ]
}